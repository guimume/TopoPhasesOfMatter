{
 "cells": [
  {
   "cell_type": "markdown",
   "metadata": {},
   "source": [
    "# SSH model"
   ]
  },
  {
   "cell_type": "markdown",
   "metadata": {},
   "source": [
    "We will show the density distribution of the ground state of a chain in the 1D SSH model. The Hamiltonian is $H=v\\sum_{k=1}^{N/2}(a^\\dagger_{2k-1}a_{2k}+h.c.)+w\\sum_{k=1}^{N/2}(a^\\dagger_{2k}a_{2k+1}+h.c.)$.\n",
    "We can write this Hamiltonian in its matricial form as $H = \\vec{a}^\\dagger\\mathcal{H}\\vec{a}$ with $\\vec{a} = (a_1, a_2,...,a_N)^T$. Therefore, we can find the eigenmodes by diagonalizing $\\mathcal{H}$. "
   ]
  },
  {
   "cell_type": "code",
   "execution_count": 1,
   "metadata": {},
   "outputs": [],
   "source": [
    "import numpy as np\n",
    "import matplotlib.pyplot as plt\n",
    "import imageio.v2 as imageio\n",
    "from IPython.display import Video\n",
    "import os\n",
    "import io"
   ]
  },
  {
   "cell_type": "code",
   "execution_count": 8,
   "metadata": {},
   "outputs": [],
   "source": [
    "def SSHham(v,w,Nsites, BC = \"OBC\"):\n",
    "    Ham = np.zeros((Nsites,Nsites))\n",
    "    for site in range(Nsites):\n",
    "        if site == Nsites-1:\n",
    "            if BC == \"PBC\":\n",
    "                if site % 2 == 0:\n",
    "                    Ham[Nsites-1,0] = v\n",
    "                else:\n",
    "                    Ham[Nsites-1,0] = w\n",
    "            else:\n",
    "                continue\n",
    "        else:\n",
    "            if site % 2 == 0:\n",
    "                Ham[site,site+1] = v\n",
    "            else:\n",
    "                Ham[site,site+1] = w\n",
    "    \n",
    "    Ham = Ham + Ham.conj().T\n",
    "    return Ham\n",
    "\n",
    "def get_eigenmodes(Ham):\n",
    "    ews, evs = np.linalg.eig(Ham)\n",
    "    sort_order = np.argsort(ews)\n",
    "    ews = ews[sort_order]\n",
    "    evs = evs[:,sort_order]\n",
    "    return evs\n",
    "\n",
    "def get_exp_n(site,occupied_emodes):\n",
    "    n_emodes = occupied_emodes.shape[1]\n",
    "    exp_val = 0\n",
    "    for i in range(n_emodes):\n",
    "        exp_val += occupied_emodes[site,i].conj()*occupied_emodes[site,i]\n",
    "    return exp_val\n"
   ]
  },
  {
   "cell_type": "code",
   "execution_count": 13,
   "metadata": {},
   "outputs": [],
   "source": [
    "def get_local_dens(v, w, num_sites, BC = \"OBC\"):\n",
    "    H = SSHham(v, w, num_sites,BC=BC)\n",
    "    evs = get_eigenmodes(H)\n",
    "\n",
    "    emodes = evs[:,:int(num_sites/2)-1]\n",
    "\n",
    "    exp = np.zeros(num_sites)\n",
    "    for site in range(num_sites):\n",
    "        exp[site] = get_exp_n(site,emodes)\n",
    "    \n",
    "    return exp\n",
    "    "
   ]
  },
  {
   "cell_type": "code",
   "execution_count": 10,
   "metadata": {},
   "outputs": [
    {
     "data": {
      "image/png": "[encoded data removed]",
      "text/plain": [
       "<Figure size 640x480 with 1 Axes>"
      ]
     },
     "metadata": {},
     "output_type": "display_data"
    }
   ],
   "source": [
    "v = 1\n",
    "w = 100\n",
    "num_sites = 30\n",
    "\n",
    "exp = get_local_dens(v, w, num_sites)\n",
    "plt.plot(list(range(1,num_sites+1)),exp)\n",
    "plt.title('Local density distribution')\n",
    "plt.xlabel('Site')\n",
    "plt.ylabel(r\"$\\langle \\hat{n} \\rangle$\")\n",
    "plt.xticks([1, *list(range(int(num_sites/10), num_sites+1, int(num_sites/10)))])\n",
    "plt.grid()\n",
    "plt.show()"
   ]
  },
  {
   "cell_type": "code",
   "execution_count": 11,
   "metadata": {},
   "outputs": [
    {
     "data": {
      "text/html": [
       "<video src=\"v_w_dependency.mp4\" controls  >\n",
       "      Your browser does not support the <code>video</code> element.\n",
       "    </video>"
      ],
      "text/plain": [
       "<IPython.core.display.Video object>"
      ]
     },
     "execution_count": 11,
     "metadata": {},
     "output_type": "execute_result"
    }
   ],
   "source": [
    "num_sites = 30\n",
    "output_dir = os.path.join(os.getcwd(), f\"{num_sites}_sites\")\n",
    "if not os.path.exists(output_dir):\n",
    "    os.makedirs(output_dir)\n",
    "    \n",
    "x_ax = list(range(1,num_sites+1))\n",
    "\n",
    "v = 100\n",
    "w_vals = [1, 10, 20,30,40,50,60,70,80,90,100,110,120,130,140,150,160,170,180,190,200,210,220,230,240,250,260,270,280,290,300,310,320,330,340,350,360,370,380,390,400,410,420,430,440,450,460,470,480,490,500, 1000, 10000]\n",
    "images = []\n",
    "\n",
    "for w in w_vals:\n",
    "    exp = get_local_dens(v, w, num_sites)\n",
    "    fig, ax = plt.subplots()\n",
    "    ax.plot(list(range(1,num_sites+1)),exp, label=r\"$v/w = {:.2f}$\".format(float(v/w)))\n",
    "    ax.set_title('Local density distribution')\n",
    "    ax.set_xlabel('Site')\n",
    "    ax.set_ylabel(r\"$\\langle \\hat{n} \\rangle$\")\n",
    "    ax.set_ylim([-0.05, 0.75])\n",
    "    ax.set_xticks([1, *list(range(int(num_sites/10), num_sites+1, int(num_sites/10)))])\n",
    "    ax.legend()\n",
    "    ax.grid()\n",
    "    \n",
    "    file_name = os.path.join(output_dir, f'plot_w_{w}.png')\n",
    "    plt.savefig(file_name)\n",
    "    plt.close(fig)\n",
    "    # images.append(fig)\n",
    "    images.append(imageio.imread(file_name))\n",
    "    \n",
    "output_video = 'v_w_dependency.mp4'\n",
    "imageio.mimsave(output_video, images, fps=5)\n",
    "Video(output_video)\n"
   ]
  },
  {
   "cell_type": "code",
   "execution_count": 16,
   "metadata": {},
   "outputs": [
    {
     "data": {
      "text/html": [
       "<video src=\"v_w_dependency_bars.mp4\" controls  >\n",
       "      Your browser does not support the <code>video</code> element.\n",
       "    </video>"
      ],
      "text/plain": [
       "<IPython.core.display.Video object>"
      ]
     },
     "execution_count": 16,
     "metadata": {},
     "output_type": "execute_result"
    }
   ],
   "source": [
    "num_sites = 30\n",
    "output_dir = os.path.join(os.getcwd(), f\"{num_sites}_sites\")\n",
    "if not os.path.exists(output_dir):\n",
    "    os.makedirs(output_dir)\n",
    "    \n",
    "x_ax = list(range(1,num_sites+1))\n",
    "\n",
    "v = 100\n",
    "\n",
    "# Part 1: Log-spaced from 1 to 100, with denser points near 100\n",
    "n = 100  # Number of points\n",
    "log_part1 = np.logspace(0, 2, n)  # logspace from 10^0 (1) to 10^2 (100)\n",
    "log_part1 = np.sort(100 - (100 - log_part1))  # Flip to make it denser near 100\n",
    "\n",
    "log_part2 = np.logspace(2, 4, n)  # logspace from 10^2 (100) to 10^4 (10,000)\n",
    "log_part2 = np.sort(100 + (log_part2 - 100))  # Shift to make it denser near 100\n",
    "\n",
    "# Merge the two parts and remove duplicate 100\n",
    "w_vals = np.unique(np.concatenate((log_part1, log_part2)))\n",
    "images = []\n",
    "\n",
    "for w in w_vals:\n",
    "    exp = get_local_dens(v, w, num_sites,BC=\"OBC\")\n",
    "    fig, ax = plt.subplots()\n",
    "    ax.bar(list(range(1,num_sites+1)),exp, width= 1,label=r\"$v/w = {:.2f}$\".format(float(v/w)))\n",
    "    ax.set_title('Local density distribution')\n",
    "    ax.set_xlabel('Site')\n",
    "    ax.set_ylabel(r\"$\\langle \\hat{n} \\rangle$\")\n",
    "    ax.set_ylim([-0.00, 0.6])\n",
    "    ax.set_xticks([1, *list(range(int(num_sites/10), num_sites+1, int(num_sites/10)))])\n",
    "    ax.legend()\n",
    "    ax.grid()\n",
    "    \n",
    "    # Save the figure to a BytesIO object\n",
    "    buf = io.BytesIO()\n",
    "    plt.savefig(buf, format='png')\n",
    "    plt.close(fig)\n",
    "    \n",
    "    # Convert buffer to numpy array and append to images list\n",
    "    buf.seek(0)\n",
    "    img_array = imageio.imread(buf, format='png')\n",
    "    images.append(img_array)\n",
    "\n",
    "output_video = 'v_w_dependency_bars.mp4'\n",
    "imageio.mimsave(output_video, images, fps=10)\n",
    "Video(output_video)\n"
   ]
  },
  {
   "cell_type": "code",
   "execution_count": 37,
   "metadata": {},
   "outputs": [
    {
     "name": "stdout",
     "output_type": "stream",
     "text": [
      "[1.00000000e+00 3.16227766e+00 1.00000000e+01 3.16227766e+01\n",
      " 1.00000000e+02 3.16227766e+02 1.00000000e+03 3.16227766e+03\n",
      " 1.00000000e+04]\n"
     ]
    }
   ],
   "source": [
    "# Part 1: Log-spaced from 1 to 100, with denser points near 100\n",
    "n1 = 5  # Number of points\n",
    "log_part1 = np.logspace(0, 2, n1)  # logspace from 10^0 (1) to 10^2 (100)\n",
    "log_part1 = np.sort(100 - (100 - log_part1))  # Flip to make it denser near 100\n",
    "\n",
    "# Part 2: Log-spaced from 100 to 10,000, denser near 100\n",
    "n2 = 5  # Number of points\n",
    "log_part2 = np.logspace(2, 4, n2)  # logspace from 10^2 (100) to 10^4 (10,000)\n",
    "log_part2 = np.sort(100 + (log_part2 - 100))  # Shift to make it denser near 100\n",
    "\n",
    "# Merge the two parts and remove duplicate 100\n",
    "final_list = np.unique(np.concatenate((log_part1, log_part2)))\n",
    "\n",
    "print(final_list)"
   ]
  },
  {
   "cell_type": "code",
   "execution_count": 15,
   "metadata": {},
   "outputs": [
    {
     "name": "stdout",
     "output_type": "stream",
     "text": [
      "[[0. 1. 0. 0. 0. 0. 0. 2.]\n",
      " [1. 0. 2. 0. 0. 0. 0. 0.]\n",
      " [0. 2. 0. 1. 0. 0. 0. 0.]\n",
      " [0. 0. 1. 0. 2. 0. 0. 0.]\n",
      " [0. 0. 0. 2. 0. 1. 0. 0.]\n",
      " [0. 0. 0. 0. 1. 0. 2. 0.]\n",
      " [0. 0. 0. 0. 0. 2. 0. 1.]\n",
      " [2. 0. 0. 0. 0. 0. 1. 0.]]\n"
     ]
    }
   ],
   "source": [
    "print(SSHham(1,2,8,\"PBC\"))"
   ]
  },
  {
   "cell_type": "markdown",
   "metadata": {},
   "source": []
  }
 ],
 "metadata": {
  "kernelspec": {
   "display_name": "tpom_venv",
   "language": "python",
   "name": "python3"
  },
  "language_info": {
   "codemirror_mode": {
    "name": "ipython",
    "version": 3
   },
   "file_extension": ".py",
   "mimetype": "text/x-python",
   "name": "python",
   "nbconvert_exporter": "python",
   "pygments_lexer": "ipython3",
   "version": "3.11.11"
  }
 },
 "nbformat": 4,
 "nbformat_minor": 2
}
